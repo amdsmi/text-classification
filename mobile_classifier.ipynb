{
  "nbformat": 4,
  "nbformat_minor": 0,
  "metadata": {
    "colab": {
      "provenance": []
    },
    "kernelspec": {
      "name": "python3",
      "display_name": "Python 3"
    },
    "language_info": {
      "name": "python"
    }
  },
  "cells": [
    {
      "cell_type": "code",
      "metadata": {
        "colab": {
          "base_uri": "https://localhost:8080/"
        },
        "id": "q8DZUQ9pd00o",
        "outputId": "22ae7008-bc77-447d-a2f9-7827411d71e8"
      },
      "source": [
        "from google.colab import drive\n",
        "drive.mount('/content/drive')"
      ],
      "execution_count": null,
      "outputs": [
        {
          "output_type": "stream",
          "text": [
            "Drive already mounted at /content/drive; to attempt to forcibly remount, call drive.mount(\"/content/drive\", force_remount=True).\n"
          ],
          "name": "stdout"
        }
      ]
    },
    {
      "cell_type": "code",
      "metadata": {
        "id": "YW7cGPHTeBzG"
      },
      "source": [
        "import numpy as np\n",
        "import pandas as pd\n",
        "import torch\n",
        "import torch.nn as nn\n",
        "import random\n",
        "import numpy as np\n",
        "import seaborn as sns\n",
        "import tensorflow as tf\n",
        "import matplotlib.pyplot as plt\n",
        "SEED = 1234\n",
        "from tqdm import tqdm\n",
        "from sklearn.model_selection import train_test_split"
      ],
      "execution_count": null,
      "outputs": []
    },
    {
      "cell_type": "code",
      "metadata": {
        "id": "eLO31IHoeTn9"
      },
      "source": [
        "dataset=pd.read_csv('/content/drive/MyDrive/mobile_re.csv')"
      ],
      "execution_count": null,
      "outputs": []
    },
    {
      "cell_type": "code",
      "metadata": {
        "colab": {
          "base_uri": "https://localhost:8080/",
          "height": 419
        },
        "id": "CNn_Fo0NclC8",
        "outputId": "8d9a75f5-42c1-495f-cd35-9bb514a381d2"
      },
      "source": [
        "dataset"
      ],
      "execution_count": null,
      "outputs": [
        {
          "output_type": "execute_result",
          "data": {
            "text/html": [
              "<div>\n",
              "<style scoped>\n",
              "    .dataframe tbody tr th:only-of-type {\n",
              "        vertical-align: middle;\n",
              "    }\n",
              "\n",
              "    .dataframe tbody tr th {\n",
              "        vertical-align: top;\n",
              "    }\n",
              "\n",
              "    .dataframe thead th {\n",
              "        text-align: right;\n",
              "    }\n",
              "</style>\n",
              "<table border=\"1\" class=\"dataframe\">\n",
              "  <thead>\n",
              "    <tr style=\"text-align: right;\">\n",
              "      <th></th>\n",
              "      <th>asin</th>\n",
              "      <th>name</th>\n",
              "      <th>rating</th>\n",
              "      <th>date</th>\n",
              "      <th>verified</th>\n",
              "      <th>title</th>\n",
              "      <th>body</th>\n",
              "      <th>helpfulVotes</th>\n",
              "    </tr>\n",
              "  </thead>\n",
              "  <tbody>\n",
              "    <tr>\n",
              "      <th>0</th>\n",
              "      <td>B0000SX2UC</td>\n",
              "      <td>Janet</td>\n",
              "      <td>3</td>\n",
              "      <td>October 11, 2005</td>\n",
              "      <td>False</td>\n",
              "      <td>Def not best, but not worst</td>\n",
              "      <td>I had the Samsung A600 for awhile which is abs...</td>\n",
              "      <td>1.0</td>\n",
              "    </tr>\n",
              "    <tr>\n",
              "      <th>1</th>\n",
              "      <td>B0000SX2UC</td>\n",
              "      <td>Luke Wyatt</td>\n",
              "      <td>1</td>\n",
              "      <td>January 7, 2004</td>\n",
              "      <td>False</td>\n",
              "      <td>Text Messaging Doesn't Work</td>\n",
              "      <td>Due to a software issue between Nokia and Spri...</td>\n",
              "      <td>17.0</td>\n",
              "    </tr>\n",
              "    <tr>\n",
              "      <th>2</th>\n",
              "      <td>B0000SX2UC</td>\n",
              "      <td>Brooke</td>\n",
              "      <td>5</td>\n",
              "      <td>December 30, 2003</td>\n",
              "      <td>False</td>\n",
              "      <td>Love This Phone</td>\n",
              "      <td>This is a great, reliable phone. I also purcha...</td>\n",
              "      <td>5.0</td>\n",
              "    </tr>\n",
              "    <tr>\n",
              "      <th>3</th>\n",
              "      <td>B0000SX2UC</td>\n",
              "      <td>amy m. teague</td>\n",
              "      <td>3</td>\n",
              "      <td>March 18, 2004</td>\n",
              "      <td>False</td>\n",
              "      <td>Love the Phone, BUT...!</td>\n",
              "      <td>I love the phone and all, because I really did...</td>\n",
              "      <td>1.0</td>\n",
              "    </tr>\n",
              "    <tr>\n",
              "      <th>4</th>\n",
              "      <td>B0000SX2UC</td>\n",
              "      <td>tristazbimmer</td>\n",
              "      <td>4</td>\n",
              "      <td>August 28, 2005</td>\n",
              "      <td>False</td>\n",
              "      <td>Great phone service and options, lousy case!</td>\n",
              "      <td>The phone has been great for every purpose it ...</td>\n",
              "      <td>1.0</td>\n",
              "    </tr>\n",
              "    <tr>\n",
              "      <th>...</th>\n",
              "      <td>...</td>\n",
              "      <td>...</td>\n",
              "      <td>...</td>\n",
              "      <td>...</td>\n",
              "      <td>...</td>\n",
              "      <td>...</td>\n",
              "      <td>...</td>\n",
              "      <td>...</td>\n",
              "    </tr>\n",
              "    <tr>\n",
              "      <th>67981</th>\n",
              "      <td>B081H6STQQ</td>\n",
              "      <td>jande</td>\n",
              "      <td>5</td>\n",
              "      <td>August 16, 2019</td>\n",
              "      <td>False</td>\n",
              "      <td>Awesome Phone, but finger scanner is a big mis...</td>\n",
              "      <td>I love the camera on this phone. The screen is...</td>\n",
              "      <td>1.0</td>\n",
              "    </tr>\n",
              "    <tr>\n",
              "      <th>67982</th>\n",
              "      <td>B081H6STQQ</td>\n",
              "      <td>2cool4u</td>\n",
              "      <td>5</td>\n",
              "      <td>September 14, 2019</td>\n",
              "      <td>False</td>\n",
              "      <td>Simply Amazing!</td>\n",
              "      <td>I've been an Xperia user for several years and...</td>\n",
              "      <td>1.0</td>\n",
              "    </tr>\n",
              "    <tr>\n",
              "      <th>67983</th>\n",
              "      <td>B081H6STQQ</td>\n",
              "      <td>simon</td>\n",
              "      <td>5</td>\n",
              "      <td>July 14, 2019</td>\n",
              "      <td>False</td>\n",
              "      <td>great phon3, but many bugs need to fix. still ...</td>\n",
              "      <td>buy one more for my cousin</td>\n",
              "      <td>NaN</td>\n",
              "    </tr>\n",
              "    <tr>\n",
              "      <th>67984</th>\n",
              "      <td>B081TJFVCJ</td>\n",
              "      <td>Tobiasz Jedrysiak</td>\n",
              "      <td>5</td>\n",
              "      <td>December 24, 2019</td>\n",
              "      <td>True</td>\n",
              "      <td>Phone is like new</td>\n",
              "      <td>Product looks and works like new. Very much re...</td>\n",
              "      <td>NaN</td>\n",
              "    </tr>\n",
              "    <tr>\n",
              "      <th>67985</th>\n",
              "      <td>B0825BB7SG</td>\n",
              "      <td>Owen Gonzalez</td>\n",
              "      <td>5</td>\n",
              "      <td>December 11, 2019</td>\n",
              "      <td>False</td>\n",
              "      <td>Outstanding phone for the price</td>\n",
              "      <td>I love the size and style of this phone. It is...</td>\n",
              "      <td>NaN</td>\n",
              "    </tr>\n",
              "  </tbody>\n",
              "</table>\n",
              "<p>67986 rows × 8 columns</p>\n",
              "</div>"
            ],
            "text/plain": [
              "             asin  ... helpfulVotes\n",
              "0      B0000SX2UC  ...          1.0\n",
              "1      B0000SX2UC  ...         17.0\n",
              "2      B0000SX2UC  ...          5.0\n",
              "3      B0000SX2UC  ...          1.0\n",
              "4      B0000SX2UC  ...          1.0\n",
              "...           ...  ...          ...\n",
              "67981  B081H6STQQ  ...          1.0\n",
              "67982  B081H6STQQ  ...          1.0\n",
              "67983  B081H6STQQ  ...          NaN\n",
              "67984  B081TJFVCJ  ...          NaN\n",
              "67985  B0825BB7SG  ...          NaN\n",
              "\n",
              "[67986 rows x 8 columns]"
            ]
          },
          "metadata": {},
          "execution_count": 5
        }
      ]
    },
    {
      "cell_type": "code",
      "metadata": {
        "id": "sJhWl-bRerSU"
      },
      "source": [
        "dataset=dataset[['body','rating']]"
      ],
      "execution_count": null,
      "outputs": []
    },
    {
      "cell_type": "code",
      "metadata": {
        "colab": {
          "base_uri": "https://localhost:8080/"
        },
        "id": "bfHSdboQDIKj",
        "outputId": "c1d4021e-537b-4b83-9283-7658ca2186b2"
      },
      "source": [
        "len(dataset)"
      ],
      "execution_count": null,
      "outputs": [
        {
          "output_type": "execute_result",
          "data": {
            "text/plain": [
              "67986"
            ]
          },
          "metadata": {},
          "execution_count": 38
        }
      ]
    },
    {
      "cell_type": "code",
      "metadata": {
        "id": "6-EcdFVrDsBt"
      },
      "source": [
        "#Python3\n",
        "import pandas as pd\n",
        "import matplotlib.pyplot as plt\n",
        "import seaborn as sns\n",
        "%matplotlib inline\n",
        "sns.set(rc={'figure.figsize':(11.7,8.27)})"
      ],
      "execution_count": null,
      "outputs": []
    },
    {
      "cell_type": "code",
      "metadata": {
        "colab": {
          "base_uri": "https://localhost:8080/",
          "height": 480
        },
        "id": "QhrBQidtbWsW",
        "outputId": "a0f793da-fe8a-4195-d684-65408ee9d04b"
      },
      "source": [
        "dataset.groupby(\"rating\")[\"rating\"].sum().plot.pie(autopct=\"%.1f%%\");"
      ],
      "execution_count": null,
      "outputs": [
        {
          "output_type": "display_data",
          "data": {
            "image/png": "[encoded data removed]",
            "text/plain": [
              "<Figure size 842.4x595.44 with 1 Axes>"
            ]
          },
          "metadata": {}
        }
      ]
    },
    {
      "cell_type": "code",
      "metadata": {
        "id": "dIS_frwRehye",
        "colab": {
          "base_uri": "https://localhost:8080/"
        },
        "outputId": "cf7fede8-85ef-4bbb-be7b-8e3cf0e8043c"
      },
      "source": [
        "pos_data=dataset[dataset.rating==5]\n",
        "neg_data=dataset[dataset.rating<3]\n",
        "pos_data['rating']=1\n",
        "neg_data['rating']=0\n",
        "my_data=pd.concat([pos_data[:20000],neg_data])"
      ],
      "execution_count": null,
      "outputs": [
        {
          "output_type": "stream",
          "text": [
            "/usr/local/lib/python3.7/dist-packages/ipykernel_launcher.py:3: SettingWithCopyWarning: \n",
            "A value is trying to be set on a copy of a slice from a DataFrame.\n",
            "Try using .loc[row_indexer,col_indexer] = value instead\n",
            "\n",
            "See the caveats in the documentation: https://pandas.pydata.org/pandas-docs/stable/user_guide/indexing.html#returning-a-view-versus-a-copy\n",
            "  This is separate from the ipykernel package so we can avoid doing imports until\n",
            "/usr/local/lib/python3.7/dist-packages/ipykernel_launcher.py:4: SettingWithCopyWarning: \n",
            "A value is trying to be set on a copy of a slice from a DataFrame.\n",
            "Try using .loc[row_indexer,col_indexer] = value instead\n",
            "\n",
            "See the caveats in the documentation: https://pandas.pydata.org/pandas-docs/stable/user_guide/indexing.html#returning-a-view-versus-a-copy\n",
            "  after removing the cwd from sys.path.\n"
          ],
          "name": "stderr"
        }
      ]
    },
    {
      "cell_type": "code",
      "metadata": {
        "colab": {
          "base_uri": "https://localhost:8080/"
        },
        "id": "B27FPbwkxulU",
        "outputId": "a14a80b4-c909-4c34-a1d0-ef574bfc6138"
      },
      "source": [
        "len(neg_data)"
      ],
      "execution_count": null,
      "outputs": [
        {
          "output_type": "execute_result",
          "data": {
            "text/plain": [
              "16658"
            ]
          },
          "metadata": {},
          "execution_count": 42
        }
      ]
    },
    {
      "cell_type": "code",
      "metadata": {
        "id": "_BnWCzOIfknX"
      },
      "source": [
        "data=my_data.body.astype(str)\n",
        "label=my_data.rating"
      ],
      "execution_count": null,
      "outputs": []
    },
    {
      "cell_type": "code",
      "metadata": {
        "id": "xbUwEkVWf99n"
      },
      "source": [
        "# Split data into training and test sets\n",
        "X_train, X_test, y_train, y_test = train_test_split(data,\n",
        "                                                    label,\n",
        "                                                    shuffle=True,\n",
        "                                                    random_state=0)"
      ],
      "execution_count": null,
      "outputs": []
    },
    {
      "cell_type": "markdown",
      "metadata": {
        "id": "9VcCKjX3jI3x"
      },
      "source": [
        "# **classic**"
      ]
    },
    {
      "cell_type": "markdown",
      "metadata": {
        "id": "u_V0huKy3jNi"
      },
      "source": [
        "**library**"
      ]
    },
    {
      "cell_type": "code",
      "metadata": {
        "id": "y61Ci_qt3C0q"
      },
      "source": [
        "from sklearn.feature_extraction.text import CountVectorizer\n",
        "from sklearn.svm import SVC\n",
        "from sklearn.metrics import roc_auc_score\n",
        "from sklearn.metrics import confusion_matrix\n",
        "from sklearn.metrics import plot_confusion_matrix\n",
        "from sklearn.feature_extraction.text import TfidfVectorizer\n",
        "from sklearn.linear_model import LogisticRegression\n",
        "\n",
        "from sklearn.naive_bayes import MultinomialNB"
      ],
      "execution_count": null,
      "outputs": []
    },
    {
      "cell_type": "markdown",
      "metadata": {
        "id": "_q0AYZBx3g5m"
      },
      "source": [
        "**input**"
      ]
    },
    {
      "cell_type": "code",
      "metadata": {
        "id": "AAiIm26q3gLE"
      },
      "source": [
        "train_1 = CountVectorizer().fit(X_train).transform(X_train)\n",
        "train_2 = CountVectorizer(ngram_range=(1,2)).fit(X_train).transform(X_train)\n",
        "train_3 = CountVectorizer(ngram_range=(2,3)).fit(X_train).transform(X_train)\n",
        "test1 = CountVectorizer().fit(X_train).transform(X_test)\n",
        "test2= CountVectorizer(ngram_range=(1,2)).fit(X_train).transform(X_test)\n",
        "test3 = CountVectorizer(ngram_range=(2,3)).fit(X_train).transform(X_test)"
      ],
      "execution_count": null,
      "outputs": []
    },
    {
      "cell_type": "markdown",
      "metadata": {
        "id": "6AoT3rG72eoW"
      },
      "source": [
        "**svm**"
      ]
    },
    {
      "cell_type": "code",
      "metadata": {
        "colab": {
          "base_uri": "https://localhost:8080/"
        },
        "id": "r8OcZ3cY2idv",
        "outputId": "96fdf9ac-aff9-4e7f-80f2-58acadf7e5fb"
      },
      "source": [
        "model = SVC()\n",
        "model.fit(train_1, y_train)\n",
        "# Predict the transformed test documents\n",
        "predictions = model.predict(test1)\n",
        "\n",
        "print('AUC: ', roc_auc_score(y_test, predictions))"
      ],
      "execution_count": null,
      "outputs": [
        {
          "output_type": "stream",
          "text": [
            "AUC:  0.9058667382351747\n"
          ],
          "name": "stdout"
        }
      ]
    },
    {
      "cell_type": "code",
      "metadata": {
        "id": "mJXaHU4dLL3Y"
      },
      "source": [
        "per,re,f,_=precision_recall_fscore_support(y_test, predictions, average='binary')"
      ],
      "execution_count": null,
      "outputs": []
    },
    {
      "cell_type": "code",
      "metadata": {
        "colab": {
          "base_uri": "https://localhost:8080/"
        },
        "id": "WKUe3ygL5lLM",
        "outputId": "c6f34201-7f5a-4a6d-dbdb-b895f108c908"
      },
      "source": [
        "model = SVC(kernel='poly')\n",
        "model.fit(train_1, y_train)\n",
        "# Predict the transformed test documents\n",
        "predictions = model.predict(test1)\n",
        "\n",
        "print('AUC: ', roc_auc_score(y_test, predictions))"
      ],
      "execution_count": null,
      "outputs": [
        {
          "output_type": "stream",
          "text": [
            "AUC:  0.6079662064330467\n"
          ],
          "name": "stdout"
        }
      ]
    },
    {
      "cell_type": "code",
      "metadata": {
        "id": "-XgNalDNLNB2"
      },
      "source": [
        "per,re,f,_=precision_recall_fscore_support(y_test, predictions, average='binary')"
      ],
      "execution_count": null,
      "outputs": []
    },
    {
      "cell_type": "code",
      "metadata": {
        "colab": {
          "base_uri": "https://localhost:8080/"
        },
        "id": "ADStMcsw7FIf",
        "outputId": "2aebe02c-04da-42ce-9d90-2820de493d24"
      },
      "source": [
        "model = SVC()\n",
        "model.fit(train_2, y_train)\n",
        "# Predict the transformed test documents\n",
        "predictions = model.predict(test2)\n",
        "\n",
        "print('AUC: ', roc_auc_score(y_test, predictions))"
      ],
      "execution_count": null,
      "outputs": [
        {
          "output_type": "stream",
          "text": [
            "AUC:  0.9095575532591488\n"
          ],
          "name": "stdout"
        }
      ]
    },
    {
      "cell_type": "code",
      "metadata": {
        "id": "AIf06_6oLON-"
      },
      "source": [
        "per,re,f,_=precision_recall_fscore_support(y_test, predictions, average='binary')"
      ],
      "execution_count": null,
      "outputs": []
    },
    {
      "cell_type": "code",
      "metadata": {
        "colab": {
          "base_uri": "https://localhost:8080/",
          "height": 517
        },
        "id": "3OfKqIr0PIvl",
        "outputId": "13cd1b59-67b7-4c8c-f9d8-672b1f8cd048"
      },
      "source": [
        "plot_confusion_matrix(model, test2,np.array(y_test).reshape(-1,1))\n",
        "plt.show()"
      ],
      "execution_count": null,
      "outputs": [
        {
          "output_type": "display_data",
          "data": {
            "image/png": "[encoded data removed]",
            "text/plain": [
              "<Figure size 842.4x595.44 with 2 Axes>"
            ]
          },
          "metadata": {}
        }
      ]
    },
    {
      "cell_type": "code",
      "metadata": {
        "colab": {
          "base_uri": "https://localhost:8080/"
        },
        "id": "ywVb4blS7FFa",
        "outputId": "df7eb6cf-db75-4ac8-b1ed-664462da9b0a"
      },
      "source": [
        "model = SVC(kernel='poly')\n",
        "model.fit(train_2, y_train)\n",
        "# Predict the transformed test documents\n",
        "predictions = model.predict(test2)\n",
        "\n",
        "print('AUC: ', roc_auc_score(y_test, predictions))"
      ],
      "execution_count": null,
      "outputs": [
        {
          "output_type": "stream",
          "text": [
            "AUC:  0.6003646836476484\n"
          ],
          "name": "stdout"
        }
      ]
    },
    {
      "cell_type": "code",
      "metadata": {
        "id": "t1lNOtIpLQNW"
      },
      "source": [
        "per,re,f,_=precision_recall_fscore_support(y_test, predictions, average='binary')"
      ],
      "execution_count": null,
      "outputs": []
    },
    {
      "cell_type": "code",
      "metadata": {
        "colab": {
          "base_uri": "https://localhost:8080/"
        },
        "id": "6-czMgE97FB4",
        "outputId": "c9e974c0-7c12-41bc-d7f6-560c3aa63d67"
      },
      "source": [
        "model = SVC()\n",
        "model.fit(train_3, y_train)\n",
        "# Predict the transformed test documents\n",
        "predictions = model.predict(test3)\n",
        "\n",
        "print('AUC: ', roc_auc_score(y_test, predictions))"
      ],
      "execution_count": null,
      "outputs": [
        {
          "output_type": "stream",
          "text": [
            "AUC:  0.8356713381657112\n"
          ],
          "name": "stdout"
        }
      ]
    },
    {
      "cell_type": "code",
      "metadata": {
        "id": "O2YDJxlqLRJv"
      },
      "source": [
        "per,re,f,_=precision_recall_fscore_support(y_test, predictions, average='binary')"
      ],
      "execution_count": null,
      "outputs": []
    },
    {
      "cell_type": "code",
      "metadata": {
        "colab": {
          "base_uri": "https://localhost:8080/"
        },
        "id": "fJnXAmbc7E_G",
        "outputId": "bb746db9-a87e-4274-a473-ed27e490ba81"
      },
      "source": [
        "model = SVC(kernel='poly')\n",
        "model.fit(train_3, y_train)\n",
        "# Predict the transformed test documents\n",
        "predictions = model.predict(test3)\n",
        "\n",
        "print('AUC: ', roc_auc_score(y_test, predictions))"
      ],
      "execution_count": null,
      "outputs": [
        {
          "output_type": "stream",
          "text": [
            "AUC:  0.5177233546384963\n"
          ],
          "name": "stdout"
        }
      ]
    },
    {
      "cell_type": "code",
      "metadata": {
        "id": "qv5wrwN3LS91"
      },
      "source": [
        "per,re,f,_=precision_recall_fscore_support(y_test, predictions, average='binary')"
      ],
      "execution_count": null,
      "outputs": []
    },
    {
      "cell_type": "markdown",
      "metadata": {
        "id": "XrKTBHvz2jVu"
      },
      "source": [
        "**naive bayse**"
      ]
    },
    {
      "cell_type": "code",
      "metadata": {
        "colab": {
          "base_uri": "https://localhost:8080/"
        },
        "id": "6M5nY7pY2rKL",
        "outputId": "d59551a0-e99c-4c3d-d73a-11ea4027eece"
      },
      "source": [
        "# Train the model\n",
        "model = LogisticRegression()\n",
        "model.fit(train_1, y_train)\n",
        "\n",
        "predictions = model.predict(test1)\n",
        "\n",
        "print('AUC: ', roc_auc_score(y_test, predictions))"
      ],
      "execution_count": null,
      "outputs": [
        {
          "output_type": "stream",
          "text": [
            "AUC:  0.9250763422478225\n"
          ],
          "name": "stdout"
        },
        {
          "output_type": "stream",
          "text": [
            "/usr/local/lib/python3.7/dist-packages/sklearn/linear_model/_logistic.py:940: ConvergenceWarning: lbfgs failed to converge (status=1):\n",
            "STOP: TOTAL NO. of ITERATIONS REACHED LIMIT.\n",
            "\n",
            "Increase the number of iterations (max_iter) or scale the data as shown in:\n",
            "    https://scikit-learn.org/stable/modules/preprocessing.html\n",
            "Please also refer to the documentation for alternative solver options:\n",
            "    https://scikit-learn.org/stable/modules/linear_model.html#logistic-regression\n",
            "  extra_warning_msg=_LOGISTIC_SOLVER_CONVERGENCE_MSG)\n"
          ],
          "name": "stderr"
        }
      ]
    },
    {
      "cell_type": "code",
      "metadata": {
        "id": "LTmUYxTsLVD4"
      },
      "source": [
        "per,re,f,_=precision_recall_fscore_support(y_test, predictions, average='binary')"
      ],
      "execution_count": null,
      "outputs": []
    },
    {
      "cell_type": "code",
      "metadata": {
        "colab": {
          "base_uri": "https://localhost:8080/"
        },
        "id": "2Ug3kEdc8U43",
        "outputId": "870e7e56-f8bb-4816-f180-9454760475c2"
      },
      "source": [
        "# Train the model\n",
        "model = LogisticRegression()\n",
        "model.fit(train_2, y_train)\n",
        "\n",
        "predictions = model.predict(test2)\n",
        "\n",
        "print('AUC: ', roc_auc_score(y_test, predictions))"
      ],
      "execution_count": null,
      "outputs": [
        {
          "output_type": "stream",
          "text": [
            "AUC:  0.9352590674743684\n"
          ],
          "name": "stdout"
        },
        {
          "output_type": "stream",
          "text": [
            "/usr/local/lib/python3.7/dist-packages/sklearn/linear_model/_logistic.py:940: ConvergenceWarning: lbfgs failed to converge (status=1):\n",
            "STOP: TOTAL NO. of ITERATIONS REACHED LIMIT.\n",
            "\n",
            "Increase the number of iterations (max_iter) or scale the data as shown in:\n",
            "    https://scikit-learn.org/stable/modules/preprocessing.html\n",
            "Please also refer to the documentation for alternative solver options:\n",
            "    https://scikit-learn.org/stable/modules/linear_model.html#logistic-regression\n",
            "  extra_warning_msg=_LOGISTIC_SOLVER_CONVERGENCE_MSG)\n"
          ],
          "name": "stderr"
        }
      ]
    },
    {
      "cell_type": "code",
      "metadata": {
        "id": "7Yi7_eRsLXPn"
      },
      "source": [
        "per,re,f,_=precision_recall_fscore_support(y_test, predictions, average='binary')"
      ],
      "execution_count": null,
      "outputs": []
    },
    {
      "cell_type": "code",
      "metadata": {
        "colab": {
          "base_uri": "https://localhost:8080/",
          "height": 517
        },
        "id": "BXydIsYOd7z9",
        "outputId": "59136e04-6550-4853-9c3c-fff4ddbb004b"
      },
      "source": [
        "plot_confusion_matrix(model, test2,np.array(y_test).reshape(-1,1))\n",
        "plt.show()"
      ],
      "execution_count": null,
      "outputs": [
        {
          "output_type": "display_data",
          "data": {
            "image/png": "[encoded data removed]",
            "text/plain": [
              "<Figure size 842.4x595.44 with 2 Axes>"
            ]
          },
          "metadata": {}
        }
      ]
    },
    {
      "cell_type": "code",
      "metadata": {
        "colab": {
          "base_uri": "https://localhost:8080/"
        },
        "id": "JW5Boiec8U1n",
        "outputId": "ebd9c0f1-e692-49c9-ad55-324df4057661"
      },
      "source": [
        "# Train the model\n",
        "model = LogisticRegression()\n",
        "model.fit(train_3, y_train)\n",
        "\n",
        "predictions = model.predict(test3)\n",
        "\n",
        "print('AUC: ', roc_auc_score(y_test, predictions))"
      ],
      "execution_count": null,
      "outputs": [
        {
          "output_type": "stream",
          "text": [
            "AUC:  0.8968996251674569\n"
          ],
          "name": "stdout"
        },
        {
          "output_type": "stream",
          "text": [
            "/usr/local/lib/python3.7/dist-packages/sklearn/linear_model/_logistic.py:940: ConvergenceWarning: lbfgs failed to converge (status=1):\n",
            "STOP: TOTAL NO. of ITERATIONS REACHED LIMIT.\n",
            "\n",
            "Increase the number of iterations (max_iter) or scale the data as shown in:\n",
            "    https://scikit-learn.org/stable/modules/preprocessing.html\n",
            "Please also refer to the documentation for alternative solver options:\n",
            "    https://scikit-learn.org/stable/modules/linear_model.html#logistic-regression\n",
            "  extra_warning_msg=_LOGISTIC_SOLVER_CONVERGENCE_MSG)\n"
          ],
          "name": "stderr"
        }
      ]
    },
    {
      "cell_type": "markdown",
      "metadata": {
        "id": "PEYZFL322vHK"
      },
      "source": [
        "**logisticRegresion**"
      ]
    },
    {
      "cell_type": "code",
      "metadata": {
        "id": "U-26CjmzLZvC"
      },
      "source": [
        "per,re,f,_=precision_recall_fscore_support(y_test, predictions, average='binary')"
      ],
      "execution_count": null,
      "outputs": []
    },
    {
      "cell_type": "code",
      "metadata": {
        "id": "lTAngm1fi6vU",
        "colab": {
          "base_uri": "https://localhost:8080/",
          "height": 517
        },
        "outputId": "5ec12d90-98c2-4eee-f28f-b3073871c172"
      },
      "source": [
        "clf = MultinomialNB().fit(train_1, y_train)\n",
        "plot_confusion_matrix(clf, test1,np.array(y_test).reshape(-1,1))\n",
        "plt.show()"
      ],
      "execution_count": null,
      "outputs": [
        {
          "output_type": "display_data",
          "data": {
            "image/png": "[encoded data removed]",
            "text/plain": [
              "<Figure size 842.4x595.44 with 2 Axes>"
            ]
          },
          "metadata": {}
        }
      ]
    },
    {
      "cell_type": "code",
      "metadata": {
        "colab": {
          "base_uri": "https://localhost:8080/",
          "height": 517
        },
        "id": "IPOBocKmDCLU",
        "outputId": "cb273c35-1bf4-421e-8d0f-a37c8aa0d244"
      },
      "source": [
        "clf = MultinomialNB().fit(train_2, y_train)\n",
        "plot_confusion_matrix(clf, test2,np.array(y_test).reshape(-1,1))\n",
        "plt.show()"
      ],
      "execution_count": null,
      "outputs": [
        {
          "output_type": "display_data",
          "data": {
            "image/png": "[encoded data removed]",
            "text/plain": [
              "<Figure size 842.4x595.44 with 2 Axes>"
            ]
          },
          "metadata": {}
        }
      ]
    },
    {
      "cell_type": "code",
      "metadata": {
        "colab": {
          "base_uri": "https://localhost:8080/",
          "height": 517
        },
        "id": "__8XYiqCDC-j",
        "outputId": "184a394f-0810-4095-9cf8-c3d0b0f06a7d"
      },
      "source": [
        "clf = MultinomialNB().fit(train_3, y_train)\n",
        "plot_confusion_matrix(clf, test3,np.array(y_test).reshape(-1,1))\n",
        "plt.show()"
      ],
      "execution_count": null,
      "outputs": [
        {
          "output_type": "display_data",
          "data": {
            "image/png": "[encoded data removed]",
            "text/plain": [
              "<Figure size 842.4x595.44 with 2 Axes>"
            ]
          },
          "metadata": {}
        }
      ]
    },
    {
      "cell_type": "code",
      "metadata": {
        "id": "6KxoRrWQGYUw"
      },
      "source": [
        "per,re,f,_=precision_recall_fscore_support(y_test, predictions, average='binary')"
      ],
      "execution_count": null,
      "outputs": []
    }
  ]
}